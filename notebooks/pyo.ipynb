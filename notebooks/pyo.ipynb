{
 "cells": [
  {
   "cell_type": "code",
   "execution_count": 1,
   "metadata": {},
   "outputs": [
    {
     "name": "stdout",
     "output_type": "stream",
     "text": [
      "Collecting pyo\n",
      "  Downloading pyo-1.0.3-cp38-cp38-macosx_10_12_x86_64.whl (7.5 MB)\n",
      "\u001b[K     |████████████████████████████████| 7.5 MB 3.9 MB/s eta 0:00:01\n",
      "\u001b[?25hInstalling collected packages: pyo\n",
      "Successfully installed pyo-1.0.3\n",
      "Note: you may need to restart the kernel to use updated packages.\n"
     ]
    }
   ],
   "source": [
    "#pip install pyo"
   ]
  },
  {
   "cell_type": "code",
   "execution_count": 3,
   "metadata": {},
   "outputs": [],
   "source": [
    "from pyo import *\n",
    "from os import path\n",
    "import csv\n",
    "import sys"
   ]
  },
  {
   "cell_type": "code",
   "execution_count": 2,
   "metadata": {},
   "outputs": [
    {
     "name": "stdout",
     "output_type": "stream",
     "text": [
      "\n",
      "WxPython is not found for the current python version.\n",
      "Pyo will use a minimal GUI toolkit written with Tkinter (if available).\n",
      "This toolkit has limited functionnalities and is no more\n",
      "maintained or updated. If you want to use all of pyo's\n",
      "GUI features, you should install WxPython, available here:\n",
      "http://www.wxpython.org/\n",
      "\n"
     ]
    },
    {
     "ename": "ModuleNotFoundError",
     "evalue": "No module named 'pyotools'",
     "output_type": "error",
     "traceback": [
      "\u001b[0;31m---------------------------------------------------------------------------\u001b[0m",
      "\u001b[0;31mModuleNotFoundError\u001b[0m                       Traceback (most recent call last)",
      "\u001b[0;32m<ipython-input-2-2ef952fa520b>\u001b[0m in \u001b[0;36m<module>\u001b[0;34m\u001b[0m\n\u001b[1;32m      1\u001b[0m \u001b[0;32mimport\u001b[0m \u001b[0mpyo\u001b[0m\u001b[0;34m\u001b[0m\u001b[0;34m\u001b[0m\u001b[0m\n\u001b[0;32m----> 2\u001b[0;31m \u001b[0;32mimport\u001b[0m \u001b[0mpyotools\u001b[0m\u001b[0;34m\u001b[0m\u001b[0;34m\u001b[0m\u001b[0m\n\u001b[0m",
      "\u001b[0;31mModuleNotFoundError\u001b[0m: No module named 'pyotools'"
     ]
    }
   ],
   "source": [
    "# coding: utf-8\n",
    "from pyo import *\n",
    "from os import path\n",
    "import csv\n",
    "import sys\n",
    "\n",
    "# Takes a csv file as input,\n",
    "# asks which columns to use as x and y,\n",
    "# computes a waveform from the CSV data,\n",
    "# Saves a file with pyo table data in.\n",
    "\n",
    "# Try to open file\n",
    "file = open(sys.argv[1], 'rt')\n",
    "\n",
    "# Check for header row\n",
    "header_row = bool(raw_input('First row is header? 0/1 >'))\n",
    "\n",
    "if header_row != False:\n",
    "    # Output column list\n",
    "    head = csv.DictReader(file)\n",
    "    print \"Available Columns:\\n\"\n",
    "    for (i, col) in enumerate(head.fieldnames):\n",
    "\tprint str(i) + \": \" + str(col)\n",
    "\n",
    "# Which col to use?\n",
    "col_index = int(raw_input('Which column to use for y axis? >'))\n",
    "\n",
    "# Prepare vars for filling and iterating\n",
    "samples = [];\n",
    "\n",
    "# Iterate over csv file\n",
    "print \"Iterating over CSV file...\"\n",
    "try:\n",
    "    reader = csv.reader(file)\n",
    "    for row in reader:\n",
    "\tsamples.append(float(row[col_index]))\n",
    "finally:\n",
    "    file.close()\n",
    "\n",
    "# Boot pyo server\n",
    "print \"Starting pyo server...\"\n",
    "s = Server().boot()\n",
    "\n",
    "# Create an empty pyo table to put the data in\n",
    "table = DataTable(float(len(samples)), chnls=1, init=samples);\n",
    "#table.view()\n",
    "\n",
    "# Process\n",
    "print \"Normalizing...\"\n",
    "table.normalize()\n",
    "print \"Removing DC...\"\n",
    "table.removeDC()\n",
    "\n",
    "# Save the table\n",
    "basename = os.path.basename(file.name)\n",
    "basename = os.path.splitext(basename)[0] # remove ext\n",
    "basename = os.path.expanduser('~/' + basename + '_table.txt')\n",
    "\n",
    "print \"Saving to: \" + basename\n",
    "\n",
    "table.write(basename)"
   ]
  },
  {
   "cell_type": "code",
   "execution_count": null,
   "metadata": {},
   "outputs": [],
   "source": []
  }
 ],
 "metadata": {
  "kernelspec": {
   "display_name": "Python 3",
   "language": "python",
   "name": "python3"
  },
  "language_info": {
   "codemirror_mode": {
    "name": "ipython",
    "version": 3
   },
   "file_extension": ".py",
   "mimetype": "text/x-python",
   "name": "python",
   "nbconvert_exporter": "python",
   "pygments_lexer": "ipython3",
   "version": "3.8.5"
  }
 },
 "nbformat": 4,
 "nbformat_minor": 4
}
