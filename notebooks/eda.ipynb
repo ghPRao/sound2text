{
 "cells": [
  {
   "cell_type": "markdown",
   "metadata": {},
   "source": [
    "# Explorartory Data Analysis"
   ]
  },
  {
   "cell_type": "code",
   "execution_count": 1,
   "metadata": {},
   "outputs": [],
   "source": [
    "import matplotlib.pyplot as plt\n",
    "%matplotlib inline\n",
    "\n",
    "# pip install IPython and librosa if we have not already done so\n",
    "import IPython.display as ipd\n",
    "import librosa\n",
    "import librosa.display"
   ]
  },
  {
   "cell_type": "markdown",
   "metadata": {},
   "source": [
    "## Data Acquisition\n",
    "\n",
    "#### DESCRIPTION\n",
    "This dataset contains 8732 labeled sound excerpts (<=4s) of urban sounds from 10 classes: air_conditioner, car_horn, children_playing, dog_bark, drilling, enginge_idling, gun_shot, jackhammer, siren, and street_music. The classes are drawn from the [urban sound taxonomy](https://urbansounddataset.weebly.com/taxonomy.html). For a detailed description of the dataset and how it was compiled please refer to the [article](http://www.justinsalamon.com/uploads/4/3/9/4/4394963/salamon_urbansound_acmmm14.pdf).\n",
    "\n",
    "All excerpts are taken from field recordings uploaded to www.freesound.org. The files are pre-sorted into ten folds (folders named fold1-fold10) to help in the reproduction of and comparison with the automatic classification results reported in the article above.\n",
    "\n",
    "In addition to the sound excerpts, a CSV file containing metadata about each excerpt is also provided\n",
    "\n",
    "#### AUDIO FILES INCLUDED\n",
    "8732 audio files of urban sounds (see description above) in WAV format. The sampling rate, bit depth, and number of channels are the same as those of the original file uploaded to Freesound (and hence may vary from file to file).\n",
    "\n",
    "#### META-DATA FILES INCLUDED\n",
    "UrbanSound8k.csv\n",
    "\n",
    "This file contains meta-data information about every audio file in the dataset. This includes:\n",
    "\n",
    "* slice_file_name: \n",
    "The name of the audio file. The name takes the following format: [fsID]-[classID]-[occurrenceID]-[sliceID].wav, where:\n",
    "[fsID] = the Freesound ID of the recording from which this excerpt (slice) is taken\n",
    "[classID] = a numeric identifier of the sound class (see description of classID below for further details)\n",
    "[occurrenceID] = a numeric identifier to distinguish different occurrences of the sound within the original recording\n",
    "[sliceID] = a numeric identifier to distinguish different slices taken from the same occurrence\n",
    "\n",
    "* fsID:\n",
    "The Freesound ID of the recording from which this excerpt (slice) is taken\n",
    "\n",
    "* start\n",
    "The start time of the slice in the original Freesound recording\n",
    "\n",
    "* end:\n",
    "The end time of slice in the original Freesound recording\n",
    "\n",
    "* salience:\n",
    "A (subjective) salience rating of the sound. 1 = foreground, 2 = background.\n",
    "\n",
    "* fold:\n",
    "The fold number (1-10) to which this file has been allocated.\n",
    "\n",
    "* classID:\n",
    "A numeric identifier of the sound class:\n",
    "0 = air_conditioner\n",
    "1 = car_horn\n",
    "2 = children_playing\n",
    "3 = dog_bark\n",
    "4 = drilling\n",
    "5 = engine_idling\n",
    "6 = gun_shot\n",
    "7 = jackhammer\n",
    "8 = siren\n",
    "9 = street_music\n",
    "\n",
    "* class:\n",
    "The class name: air_conditioner, car_horn, children_playing, dog_bark, drilling, engine_idling, gun_shot, jackhammer, \n",
    "siren, street_music.\n",
    "\n",
    "#### DATA SOURCE: \n",
    "https://urbansounddataset.weebly.com/urbansound8k.html\n",
    "\n",
    "#### Data SOURCE CREATED BY:\n",
    "[Justin Salamon](https://www.justinsalamon.com/), Christopher Jacoby, and Juan Pablo Bello\n",
    "Music and Audio Research Laboratory (MARL), New York University\n",
    "Center for Urban Science and Progress (CUSP), New York University"
   ]
  },
  {
   "cell_type": "code",
   "execution_count": null,
   "metadata": {},
   "outputs": [],
   "source": []
  },
  {
   "cell_type": "code",
   "execution_count": null,
   "metadata": {},
   "outputs": [],
   "source": []
  }
 ],
 "metadata": {
  "kernelspec": {
   "display_name": "Python 3",
   "language": "python",
   "name": "python3"
  },
  "language_info": {
   "codemirror_mode": {
    "name": "ipython",
    "version": 3
   },
   "file_extension": ".py",
   "mimetype": "text/x-python",
   "name": "python",
   "nbconvert_exporter": "python",
   "pygments_lexer": "ipython3",
   "version": "3.8.5"
  }
 },
 "nbformat": 4,
 "nbformat_minor": 4
}
